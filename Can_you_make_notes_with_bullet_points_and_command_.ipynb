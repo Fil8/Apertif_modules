{
  "cells": [
    {
      "cell_type": "markdown",
      "metadata": {
        "id": "view-in-github",
        "colab_type": "text"
      },
      "source": [
        "<a href=\"https://colab.research.google.com/github/Fil8/Apertif_modules/blob/master/Can_you_make_notes_with_bullet_points_and_command_.ipynb\" target=\"_parent\"><img src=\"https://colab.research.google.com/assets/colab-badge.svg\" alt=\"Open In Colab\"/></a>"
      ]
    },
    {
      "cell_type": "markdown",
      "source": [
        "Summary of the key steps and logic implemented to generate the TNG50-like HDF5 file with original and rotated coordinates/velocities, focusing on the `fromFlashToTNG.py` script:\n",
        "\n",
        "---\n",
        "## Summary: Generating TNG50-like HDF5 from FLASH Data\n",
        "\n",
        "This outlines the process to convert FLASH simulation data, apply filters, calculate halo orientation, and save data in a structure resembling TNG50 snapshots, including rotated kinematic fields.\n",
        "\n",
        "### 1.  Script Setup and Argument Parsing ⚙️\n",
        "* **Import necessary libraries:** `yt`, `h5py`, `numpy`, `argparse`, `os`.\n",
        "* **Command-line arguments:**\n",
        "    * `-i, --input`: Path to the input FLASH HDF5 file. (e.g., `cca/bondi_hdf5_plt_cnt_0083.h5`)\n",
        "    * `-o, --output`: Path for the output TNG50-like HDF5 file.\n",
        "    * `-tmin, --temperature_min`: Minimum temperature filter (Kelvin).\n",
        "    * `-tmax, --temperature_max`: Maximum temperature filter (Kelvin).\n",
        "    * `--sphere_radius`: Optional spherical filter radius (in code length units).\n",
        "    * `--cosmo_header_file`: Optional path to an HDF5 file for overriding cosmological parameters in the output header.\n",
        "\n",
        "---\n",
        "### 2.  Loading FLASH Data and Initial Setup 💾\n",
        "* Load the FLASH dataset using `yt.load(args.input)`.\n",
        "* Print basic dataset information (time, redshift, domain dimensions, code unit conversions to CGS).\n",
        "* Define primary FLASH field names (e.g., `('flash', 'dens')`, `('flash', 'velx')`) and `yt`-derived field names (e.g., `('index', 'cell_volume')`).\n",
        "* **Field Checking:**\n",
        "    * Verify the existence of essential FLASH fields.\n",
        "    * Attempt to use common `yt` aliases (e.g., `('gas', 'density')` if `('flash', 'dens')` is missing) and update field variables accordingly.\n",
        "* **Temperature Field:** Define/ensure a consistent temperature field (e.g., `('gas', 'temperature')` via the `_temperature` helper function) for filtering, ensuring it uses `('flash', 'temp')` if available.\n",
        "\n",
        "---\n",
        "### 3.  Data Selection and Filtering 🔍\n",
        "* Start with `selection = ds.all_data()`.\n",
        "* Apply temperature cuts if `args.temperature_min` or `args.temperature_max` are provided:"
      ],
      "metadata": {
        "id": "WH3r7ZOrZRJH"
      }
    },
    {
      "cell_type": "code",
      "source": [
        "# Example for tmin\n",
        "    selection = selection.cut_region(f\"obj[('gas', 'temperature')] >= {temp_min_for_filter.value}\")"
      ],
      "outputs": [],
      "execution_count": null,
      "metadata": {
        "id": "D5DRTv4NZRJJ"
      }
    },
    {
      "cell_type": "markdown",
      "source": [
        "* Apply an optional spherical filter if `args.sphere_radius` is provided:"
      ],
      "metadata": {
        "id": "nOyjzyUoZRJK"
      }
    },
    {
      "cell_type": "code",
      "source": [
        "sphere_region_filt = ds.sphere(ds.domain_center, radius_yt_quantity)\n",
        "    selection = selection.intersect(sphere_region_filt)"
      ],
      "outputs": [],
      "execution_count": null,
      "metadata": {
        "id": "cjjyZP4MZRJK"
      }
    },
    {
      "cell_type": "markdown",
      "source": [
        "* Check if `num_selected_cells > 0` before proceeding to save.\n",
        "\n",
        "---\n",
        "### 4.  Calculating Orientation and Rotation (Core of New Logic) 🌀\n",
        "*This occurs if `do_save_output` is `True`.*\n",
        "* **Calculate CoM and Bulk Velocity of the `selection`:**"
      ],
      "metadata": {
        "id": "CFhfDd6mZRJK"
      }
    },
    {
      "cell_type": "code",
      "source": [
        "com_selection = selection.quantities.center_of_mass(use_gas=True).in_units(_length_unit)\n",
        "    bulk_velocity_selection = selection.quantities.bulk_velocity(use_gas=True).in_units(_velocity_unit)"
      ],
      "outputs": [],
      "execution_count": null,
      "metadata": {
        "id": "daZS4cRdZRJK"
      }
    },
    {
      "cell_type": "markdown",
      "source": [
        "* **Calculate Principal Axes Rotation Matrix (`principal_axes_R`):**\n",
        "    * This is done by the helper function `calculate_principal_axes_rotation_matrix(ds, selection, com_selection)`.\n",
        "    * Inside this function:\n",
        "        * Fetch `('gas', 'cell_mass')` and absolute positions `('gas', 'x')`, `('gas', 'y')`, `('gas', 'z')` for the `selection`.\n",
        "        * Calculate positions relative to `com_selection`.\n",
        "        * Manually compute the components of the **inertia tensor** ($I_{xx}, I_{yy}, I_{zz}, I_{xy}, I_{xz}, I_{yz}$) using these relative positions and masses.\n",
        "        * Perform an eigen decomposition of the unitless inertia tensor matrix: `eigenvalues_val, eigenvectors_matrix = np.linalg.eig(inertia_tensor_val)`.\n",
        "        * Sort eigenvectors by descending eigenvalues. The resulting matrix `principal_axes_R` has these sorted principal axes as its **columns**.\n",
        "        * Return `principal_axes_R` and a flag indicating if a non-identity rotation was successfully calculated.\n",
        "\n",
        "---\n",
        "### 5.  Preparing and Transforming Kinematic Data 💨\n",
        "* **Fetch Original (Box-Frame) Data:**\n",
        "    * `coordinates_code_val`: Nx3 NumPy array of selected cell positions (values in code units).\n",
        "    * `velocities_code_val`: Nx3 NumPy array of selected cell velocities (values in code units).\n",
        "* **Transform Coordinates:**\n",
        "    1.  Make coordinates relative to the `selection`'s CoM:"
      ],
      "metadata": {
        "id": "_-YQiwrqZRJK"
      }
    },
    {
      "cell_type": "code",
      "source": [
        "coords_relative_to_com_val = coordinates_code_val - com_selection.value"
      ],
      "outputs": [],
      "execution_count": null,
      "metadata": {
        "id": "bxJXPrvEZRJK"
      }
    },
    {
      "cell_type": "markdown",
      "source": [
        "2.  Rotate these relative coordinates. If `principal_axes_R` has the new axes (P1, P2, P3) as columns, then for row vectors `v_orig`, the transformed vector `v_rot = v_orig @ principal_axes_R`."
      ],
      "metadata": {
        "id": "uq85lFybZRJK"
      }
    },
    {
      "cell_type": "code",
      "source": [
        "rotated_coordinates_val = np.dot(coords_relative_to_com_val, principal_axes_R)"
      ],
      "outputs": [],
      "execution_count": null,
      "metadata": {
        "id": "9um0YUfBZRJK"
      }
    },
    {
      "cell_type": "markdown",
      "source": [
        "The `rotated_coordinates_val` are now in the principal axis frame, centered at the CoM of the selection.\n",
        "* **Transform Velocities:**\n",
        "    1.  Make velocities relative to the `selection`'s bulk velocity:"
      ],
      "metadata": {
        "id": "e9sGaOtvZRJK"
      }
    },
    {
      "cell_type": "code",
      "source": [
        "vels_relative_to_bulk_val = velocities_code_val - bulk_velocity_selection.value"
      ],
      "outputs": [],
      "execution_count": null,
      "metadata": {
        "id": "shusJvcWZRJL"
      }
    },
    {
      "cell_type": "markdown",
      "source": [
        "2.  Rotate these relative velocities using the same `principal_axes_R`:"
      ],
      "metadata": {
        "id": "Hh121LqgZRJL"
      }
    },
    {
      "cell_type": "code",
      "source": [
        "rotated_velocities_val = np.dot(vels_relative_to_bulk_val, principal_axes_R)"
      ],
      "outputs": [],
      "execution_count": null,
      "metadata": {
        "id": "Nr3HzHLKZRJL"
      }
    },
    {
      "cell_type": "markdown",
      "source": [
        "* If `rotation_calculated` is `False` (e.g., identity matrix from helper due to error/no cells), `rotated_coordinates_val` and `rotated_velocities_val` are set to the CoM/bulk-velocity-relative versions without further matrix multiplication.\n",
        "\n",
        "---\n",
        "### 6.  Preparing Other Physical Quantities 🌡️\n",
        "* Fetch and convert to code units (as `YTArray`s or values):\n",
        "    * `density_code_ytarray`\n",
        "    * `masses_code_ytarray` (from density \\* cell volume)\n",
        "    * `temperature_K_ytarray`\n",
        "    * `internal_energy_code_ytarray` (optional, with error handling)\n",
        "    * `particle_ids` (generated via `np.arange`)\n",
        "\n",
        "---\n",
        "### 7.  Saving Data to TNG50-like HDF5 File  HDF5 📝\n",
        "* Open the output HDF5 file using `h5py.File(output_filename, 'w')`.\n",
        "* **Header Group (`/Header`):**\n",
        "    * Read cosmological parameters (`HubbleParam`, `Omega0`, etc.) from `args.cosmo_header_file` if provided.\n",
        "    * Fall back to `ds` (if cosmological) or TNG defaults for any missing parameters.\n",
        "    * Store these `final_cosmo_params` as attributes.\n",
        "    * Store `BoxSize`, `UnitLength_in_cm`, `UnitMass_in_g`, `UnitVelocity_in_cm_per_s`.\n",
        "    * Store other TNG header fields like `MassTable`, `NumPart_ThisFile`, flags (e.g., `Flag_DoublePrecision` set to 1 if coordinates are `float64`).\n",
        "* **Particle Data Group (`/PartType0`):**\n",
        "    * `Coordinates`: Original box-frame positions (`coordinates_code_val`), typically saved as `np.float64`.\n",
        "    * `Velocities`: Original box-frame velocities (`velocities_code_val`), typically saved as `np.float32`.\n",
        "    * `RotatedCoordinates`: Transformed coordinates (`rotated_coordinates_val`), same precision as `Coordinates`.\n",
        "    * `RotatedVelocities`: Transformed velocities (`rotated_velocities_val`), same precision as `Velocities`.\n",
        "    * `Masses`, `Density`, `Temperature`, `InternalEnergy` (if available), `ParticleIDs`.\n",
        "* **Cosmology Text File:** Save the `final_cosmo_params` to a separate `_cosmology.txt` file for easy reference.\n",
        "\n",
        "---\n",
        "### 8.  Error Handling ⚠️\n",
        "* `try...except` blocks are used for file operations, `yt` calls, and calculations to catch errors gracefully (e.g., `YTFieldNotFound`, `LinAlgError` during eigen decomposition).\n",
        "\n",
        "This detailed breakdown covers the journey from loading raw FLASH data to producing a TNG50-like HDF5 file with both original and properly rotated kinematic fields based on the halo's principal axes of shape."
      ],
      "metadata": {
        "id": "kUWGsS33ZRJL"
      }
    }
  ],
  "metadata": {
    "colab": {
      "provenance": [],
      "include_colab_link": true
    },
    "kernelspec": {
      "display_name": "Python 3",
      "name": "python3"
    }
  },
  "nbformat": 4,
  "nbformat_minor": 0
}